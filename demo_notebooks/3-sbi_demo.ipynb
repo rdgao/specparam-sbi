{
 "cells": [
  {
   "cell_type": "markdown",
   "id": "572d9de8-6d6c-4d73-8729-7d2c373697dc",
   "metadata": {},
   "source": [
    "# Demo 3: simulation-based inference (`sbi`) for parameter posterior inference\n",
    "\n",
    "In this demo, we will implement a toy simulator and do inference on it given an observation.\n",
    "\n",
    "See https://www.mackelab.org/sbi/ for full tutorials."
   ]
  },
  {
   "cell_type": "code",
   "execution_count": null,
   "id": "48579551-9878-49fe-b66c-093527353904",
   "metadata": {},
   "outputs": [],
   "source": [
    "# !pip install sbi"
   ]
  },
  {
   "cell_type": "code",
   "execution_count": 1,
   "id": "ae179ae6-1f3b-4a0c-b187-20789970cef4",
   "metadata": {},
   "outputs": [],
   "source": [
    "ON_COLAB = False\n",
    "%matplotlib inline\n",
    "import matplotlib.pylab as plt\n",
    "import numpy as np\n",
    "\n",
    "cur_dir = 'https://raw.githubusercontent.com/rdgao/specparam-sbi/main/demo_notebooks/' if ON_COLAB else './'\n",
    "plt.style.use(cur_dir + 'matplotlibrc_notebook')"
   ]
  },
  {
   "cell_type": "code",
   "execution_count": 2,
   "id": "88f6cfcc-b34b-46ed-9928-5674a373f98f",
   "metadata": {},
   "outputs": [],
   "source": [
    "import torch\n",
    "from sbi.inference import SNPE, prepare_for_sbi, simulate_for_sbi\n",
    "from sbi.utils.get_nn_models import posterior_nn\n",
    "from sbi import utils as utils\n",
    "from sbi import analysis as analysis"
   ]
  },
  {
   "cell_type": "markdown",
   "id": "176a691f-0e2b-465b-a52a-6d3f05807eb7",
   "metadata": {},
   "source": [
    "### Define the toy simulator.\n",
    "We make a stochastic simulator that is just adding gaussian noise with mean `mu` and variance `sigma` to the parameters, i.e.\n",
    "\n",
    "$x \\sim p(x|\\theta) = \\theta + \\epsilon$, where $\\epsilon \\sim \\mathcal{N}(\\mu, \\sigma^2)$"
   ]
  },
  {
   "cell_type": "code",
   "execution_count": 3,
   "id": "15b5de35-afce-4f9e-8070-913a271cb112",
   "metadata": {},
   "outputs": [],
   "source": [
    "def linear_gaussian(theta):\n",
    "    mu = 3.0\n",
    "    sigma = 0.5\n",
    "    return theta + mu + torch.randn_like(theta) * sigma"
   ]
  },
  {
   "cell_type": "markdown",
   "id": "ca2502b6-ae2e-4347-b75e-ebd6d1f9afb9",
   "metadata": {},
   "source": [
    "### Define prior (proposal) distribution for the simulator."
   ]
  },
  {
   "cell_type": "code",
   "execution_count": 4,
   "id": "17e79267-4e63-4550-9f13-8a1008908042",
   "metadata": {},
   "outputs": [],
   "source": [
    "num_dim = 2\n",
    "prior = utils.BoxUniform(low=-2 * torch.ones(num_dim), high=2 * torch.ones(num_dim))"
   ]
  },
  {
   "cell_type": "markdown",
   "id": "c30fe4ad-1efe-4584-b16b-a0c223ecb669",
   "metadata": {},
   "source": [
    "As an example, simulate from two random draws of parameter `theta` and look at their respective simulated \"data\", `x`. \n",
    "\n",
    "The question is, given an observation `x_o`, infer the most likely parameter `theta_o` that produced that observation."
   ]
  },
  {
   "cell_type": "code",
   "execution_count": 5,
   "id": "7dea0ecc-d462-49dd-9525-fdfbab102580",
   "metadata": {},
   "outputs": [
    {
     "data": {
      "text/plain": [
       "<matplotlib.legend.Legend at 0x28b25c220>"
      ]
     },
     "execution_count": 5,
     "metadata": {},
     "output_type": "execute_result"
    },
    {
     "data": {
      "image/png": "[encoded data removed]",
      "text/plain": [
       "<Figure size 288x288 with 1 Axes>"
      ]
     },
     "metadata": {},
     "output_type": "display_data"
    }
   ],
   "source": [
    "torch.manual_seed(42)\n",
    "theta_o = prior.sample((1,))\n",
    "x_o = linear_gaussian(theta_o)\n",
    "\n",
    "num_sims = 20\n",
    "for i_ in range(2):\n",
    "    theta = prior.sample((1,))\n",
    "    x = linear_gaussian(theta.repeat(num_sims,1))\n",
    "    plt.plot(theta[:,0], theta[:,1], f'oC{i_}', label=f'theta_{i_}', ms=8)\n",
    "    plt.plot(x[:,0], x[:,1], f'sC{i_}', label=f'x_{i_}', alpha=0.5)\n",
    "\n",
    "plt.plot(x_o[:,0], x_o[:,1], f'sC4', label=f'x_obs', alpha=1, ms=5)\n",
    "    \n",
    "    \n",
    "plt.legend(frameon=True, bbox_to_anchor=[1.5,0,0,1])"
   ]
  },
  {
   "cell_type": "markdown",
   "id": "0db5a7c6-209a-4f5f-ae2a-4ac31ae7a01e",
   "metadata": {},
   "source": [
    "### Make the training data by simulating many times with random `theta`."
   ]
  },
  {
   "cell_type": "code",
   "execution_count": 6,
   "id": "e830c1ba-5823-4238-ac40-d4c21e40769b",
   "metadata": {},
   "outputs": [],
   "source": [
    "num_training = 2000\n",
    "theta = prior.sample((num_training,))\n",
    "x = linear_gaussian(theta)"
   ]
  },
  {
   "cell_type": "code",
   "execution_count": 7,
   "id": "54944d28-b53a-42e5-8995-efdc0f976d74",
   "metadata": {},
   "outputs": [
    {
     "data": {
      "text/plain": [
       "<matplotlib.legend.Legend at 0x28b373490>"
      ]
     },
     "execution_count": 7,
     "metadata": {},
     "output_type": "execute_result"
    },
    {
     "data": {
      "image/png": "[encoded data removed]",
      "text/plain": [
       "<Figure size 288x288 with 1 Axes>"
      ]
     },
     "metadata": {},
     "output_type": "display_data"
    }
   ],
   "source": [
    "plt.plot(theta[:100,0], theta[:100,1], f'ok', label=f'theta', alpha=0.5)\n",
    "plt.plot(x[:100,0], x[:100,1], f'sg', label=f'x', alpha=0.5)\n",
    "plt.legend(frameon=True)"
   ]
  },
  {
   "cell_type": "markdown",
   "id": "ed8dfbe1-4abd-4fd5-a65d-d3448d6b8e8e",
   "metadata": {},
   "source": [
    "### Train density estimatior."
   ]
  },
  {
   "cell_type": "code",
   "execution_count": 45,
   "id": "e902e756-ab3f-42ba-8cc9-fa77072d655b",
   "metadata": {},
   "outputs": [
    {
     "name": "stdout",
     "output_type": "stream",
     "text": [
      " Neural network successfully converged after 118 epochs."
     ]
    }
   ],
   "source": [
    "inference = SNPE(prior=prior)\n",
    "inference = inference.append_simulations(theta, x)\n",
    "density_estimator = inference.train()"
   ]
  },
  {
   "cell_type": "markdown",
   "id": "1acf46ce-5ae5-4d6f-b133-ffc01c504f4a",
   "metadata": {},
   "source": [
    "### Get posterior distribution conditioned on `x_o` and sample."
   ]
  },
  {
   "cell_type": "code",
   "execution_count": 46,
   "id": "8f8cf5b6-4a31-443a-9993-fcec768db042",
   "metadata": {},
   "outputs": [
    {
     "data": {
      "application/vnd.jupyter.widget-view+json": {
       "model_id": "e9129cf671374c2d805f31a5317473d9",
       "version_major": 2,
       "version_minor": 0
      },
      "text/plain": [
       "Drawing 10000 posterior samples:   0%|          | 0/10000 [00:00<?, ?it/s]"
      ]
     },
     "metadata": {},
     "output_type": "display_data"
    },
    {
     "data": {
      "image/png": "[encoded data removed]",
      "text/plain": [
       "<Figure size 360x360 with 4 Axes>"
      ]
     },
     "metadata": {},
     "output_type": "display_data"
    }
   ],
   "source": [
    "posterior = inference.build_posterior(density_estimator)\n",
    "posterior_samples = posterior.sample((10000,), x=x_o)\n",
    "# plot posterior samples\n",
    "_ = analysis.pairplot(\n",
    "    posterior_samples, limits=[[-2, 2], [-2, 2]], figsize=(5, 5),\n",
    "    points=[theta_o], points_colors=['C0']\n",
    ")"
   ]
  },
  {
   "cell_type": "markdown",
   "id": "50e12ec1-e8b7-49d1-abd0-b83ba3cf9144",
   "metadata": {},
   "source": [
    "### We can also check 'predictive simulations' by simulating the posterior samples again."
   ]
  },
  {
   "cell_type": "code",
   "execution_count": 47,
   "id": "8252b39c-5bea-428e-ab9b-238541ca5f7e",
   "metadata": {},
   "outputs": [],
   "source": [
    "predictive_samples = linear_gaussian(posterior_samples)"
   ]
  },
  {
   "cell_type": "code",
   "execution_count": 48,
   "id": "023810e8-10ef-4c13-ab3e-5158e7f31d8c",
   "metadata": {},
   "outputs": [
    {
     "data": {
      "image/png": "[encoded data removed]",
      "text/plain": [
       "<Figure size 360x360 with 4 Axes>"
      ]
     },
     "metadata": {},
     "output_type": "display_data"
    }
   ],
   "source": [
    "# plot posterior samples\n",
    "_ = analysis.pairplot(\n",
    "    predictive_samples, limits=[[-2, 6], [-2, 6]], figsize=(5, 5),\n",
    "    points=[x_o], points_colors=['C4']\n",
    ")"
   ]
  },
  {
   "cell_type": "code",
   "execution_count": null,
   "id": "a5bf016f-0ed8-4757-abce-c67e36233727",
   "metadata": {},
   "outputs": [],
   "source": []
  }
 ],
 "metadata": {
  "kernelspec": {
   "display_name": "Python 3 (ipykernel)",
   "language": "python",
   "name": "python3"
  },
  "language_info": {
   "codemirror_mode": {
    "name": "ipython",
    "version": 3
   },
   "file_extension": ".py",
   "mimetype": "text/x-python",
   "name": "python",
   "nbconvert_exporter": "python",
   "pygments_lexer": "ipython3",
   "version": "3.8.13"
  }
 },
 "nbformat": 4,
 "nbformat_minor": 5
}
